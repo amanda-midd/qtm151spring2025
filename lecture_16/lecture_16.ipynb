{
 "cells": [
  {
   "attachments": {},
   "cell_type": "markdown",
   "metadata": {},
   "source": [
    "# <span style=\"color:blue\"> Lecture 16 - Time Data </span>\n",
    "\n",
    "<font size = \"5\">\n",
    "\n",
    "In  the last lecture we ...\n",
    "- Completed the module on SQL\n",
    "- Learned about escape characters\n",
    "\n",
    "\n",
    "In  this lecture we will ...\n",
    "\n",
    "- Process time data in Python\n",
    "- Learn about wildcards"
   ]
  },
  {
   "attachments": {},
   "cell_type": "markdown",
   "metadata": {},
   "source": [
    "# <span style=\"color:blue\"> I. Import Libraries and Data </span>"
   ]
  },
  {
   "cell_type": "markdown",
   "metadata": {},
   "source": [
    "<font size = \"5\">\n",
    "\n",
    "Import libraries"
   ]
  },
  {
   "cell_type": "code",
   "execution_count": 1,
   "metadata": {},
   "outputs": [
    {
     "name": "stdout",
     "output_type": "stream",
     "text": [
      "Intel MKL WARNING: Support of Intel(R) Streaming SIMD Extensions 4.2 (Intel(R) SSE4.2) enabled only processors has been deprecated. Intel oneAPI Math Kernel Library 2025.0 will require Intel(R) Advanced Vector Extensions (Intel(R) AVX) instructions.\n",
      "Intel MKL WARNING: Support of Intel(R) Streaming SIMD Extensions 4.2 (Intel(R) SSE4.2) enabled only processors has been deprecated. Intel oneAPI Math Kernel Library 2025.0 will require Intel(R) Advanced Vector Extensions (Intel(R) AVX) instructions.\n"
     ]
    }
   ],
   "source": [
    "# \"pandas\" processes datasets\n",
    "# \"maplotlib.pyplot\" generates graphs\n",
    "# \"maplotlib.dates\" has advanced options for plotting dates\n",
    "# \"datetime\" handles date information\n",
    "\n",
    "import pandas as pd\n",
    "import matplotlib.pyplot as plt\n",
    "import matplotlib.dates as mdates\n",
    "from datetime import date, time, datetime"
   ]
  },
  {
   "attachments": {},
   "cell_type": "markdown",
   "metadata": {},
   "source": [
    "<font size = \"5\">\n",
    "\n",
    "Import data"
   ]
  },
  {
   "cell_type": "code",
   "execution_count": 2,
   "metadata": {},
   "outputs": [],
   "source": [
    "financial = pd.read_csv(\"data_raw/financial.csv\")"
   ]
  },
  {
   "attachments": {},
   "cell_type": "markdown",
   "metadata": {},
   "source": [
    "<font size = \"5\">\n",
    "\n",
    "\"Parse\" time columns"
   ]
  },
  {
   "cell_type": "code",
   "execution_count": 3,
   "metadata": {},
   "outputs": [],
   "source": [
    "# Convert string column to datetime format\n",
    "# If the date format is simple, you can also parse on input as\n",
    "# financial = pd.read_csv(\"data_raw/financial.csv\",parse_dates = [\"date\"]\n",
    "# See advanced options for parsing further in the lecture...\n",
    "\n",
    "financial[\"date\"] = pd.to_datetime(financial[\"date_str\"])"
   ]
  },
  {
   "attachments": {},
   "cell_type": "markdown",
   "metadata": {},
   "source": [
    "<font size = \"5\">\n",
    "\n",
    "Check Types"
   ]
  },
  {
   "cell_type": "code",
   "execution_count": 4,
   "metadata": {},
   "outputs": [
    {
     "data": {
      "text/plain": [
       "date_str            object\n",
       "sp500              float64\n",
       "djia               float64\n",
       "date_ex1            object\n",
       "date_ex2            object\n",
       "date_ex3            object\n",
       "date        datetime64[ns]\n",
       "dtype: object"
      ]
     },
     "execution_count": 4,
     "metadata": {},
     "output_type": "execute_result"
    }
   ],
   "source": [
    "# Standard data types are \"int\", \"str\", \"float\", and \"bool\"\n",
    "# There is also a \"datetime\" types\n",
    "\n",
    "financial.dtypes"
   ]
  },
  {
   "attachments": {},
   "cell_type": "markdown",
   "metadata": {},
   "source": [
    "<font size = \"5\">\n",
    "\n",
    "Visualize time data"
   ]
  },
  {
   "cell_type": "code",
   "execution_count": 5,
   "metadata": {},
   "outputs": [
    {
     "data": {
      "text/plain": [
       "Timestamp('2018-04-04 00:00:00')"
      ]
     },
     "execution_count": 5,
     "metadata": {},
     "output_type": "execute_result"
    }
   ],
   "source": [
    "financial['date'][0]"
   ]
  },
  {
   "cell_type": "code",
   "execution_count": 6,
   "metadata": {},
   "outputs": [],
   "source": [
    "financial.sort_values(\"date\",ascending = False)"
   ]
  },
  {
   "cell_type": "code",
   "execution_count": 7,
   "metadata": {},
   "outputs": [],
   "source": [
    "\n",
    "# plt.plot() is used to create line plots\n",
    "plt.plot(\"date\", \"sp500\",       # The first two arguments are column names for the (x,y) data           \n",
    "    # Make sure that the data is sorted, since the lines will be connected  based on the order of the dataset\n",
    "          data = financial)     # The third argument is the data\n",
    "plt.xlabel(\"Time\")\n",
    "plt.ylabel(\"S&P 500 Index\")\n",
    "plt.title(\"The evolution of the stock market\")\n"
   ]
  },
  {
   "attachments": {},
   "cell_type": "markdown",
   "metadata": {},
   "source": [
    "<font size = \"5\">\n",
    "\n",
    "S&P 500 tracks the average performance of <br>\n",
    "of the largest companies in the US stock market\n",
    "\n",
    "$\\quad$ https://en.wikipedia.org/wiki/S%26P_500 <br>\n",
    "$\\quad$ https://fred.stlouisfed.org/series/SP500"
   ]
  },
  {
   "attachments": {},
   "cell_type": "markdown",
   "metadata": {},
   "source": [
    "<font size = \"5\">\n",
    "\n",
    "Try it yourself!\n",
    "\n",
    "- Generate a line plot which has the Dow Jones <br>\n",
    "Industrial Index (\"djia\") on the y-axis and <br>\n",
    "\"date\" on the x-axis."
   ]
  },
  {
   "cell_type": "code",
   "execution_count": 9,
   "metadata": {},
   "outputs": [
    {
     "data": {
      "text/plain": [
       "Text(0.5, 1.0, 'The evolution of the stock market')"
      ]
     },
     "execution_count": 9,
     "metadata": {},
     "output_type": "execute_result"
    },
    {
     "data": {
      "image/png": "[encoded data removed]",
      "text/plain": [
       "<Figure size 640x480 with 1 Axes>"
      ]
     },
     "metadata": {},
     "output_type": "display_data"
    }
   ],
   "source": [
    "# Write your own code\n",
    "\n",
    "plt.plot(\"date\", \"djia\",\n",
    "          data = financial)\n",
    "plt.xlabel(\"Time\")\n",
    "plt.ylabel(\"Dow Jones Index\")\n",
    "plt.title(\"The evolution of the stock market\")\n",
    "\n"
   ]
  },
  {
   "attachments": {},
   "cell_type": "markdown",
   "metadata": {},
   "source": [
    "# <span style=\"color:blue\"> II. Dates + Wild Cards  </span>"
   ]
  },
  {
   "attachments": {},
   "cell_type": "markdown",
   "metadata": {},
   "source": [
    "<font size = \"5\">\n",
    "\n",
    "Convert to string (a)\n",
    "\n",
    "\n",
    "- A wildcard ```%``` is used to denote date formats\n",
    "- Useful when working with text data\n",
    "\n",
    "$\\quad$ <img src=\"figures/wildcards_fig1.png\" alt=\"drawing\" width=\"300\"/>"
   ]
  },
  {
   "cell_type": "code",
   "execution_count": 10,
   "metadata": {},
   "outputs": [
    {
     "name": "stdout",
     "output_type": "stream",
     "text": [
      "0       04\n",
      "1       04\n",
      "2       04\n",
      "3       04\n",
      "4       04\n",
      "        ..\n",
      "1300    03\n",
      "1301    03\n",
      "1302    03\n",
      "1303    04\n",
      "1304    04\n",
      "Name: month_str, Length: 1305, dtype: object\n",
      "0       14\n",
      "1       14\n",
      "2       14\n",
      "3       15\n",
      "4       15\n",
      "        ..\n",
      "1300    13\n",
      "1301    13\n",
      "1302    13\n",
      "1303    14\n",
      "1304    14\n",
      "Name: week_str, Length: 1305, dtype: object\n"
     ]
    }
   ],
   "source": [
    "# \"String from time\" .dt.strftime()\n",
    "# The first argument needs to be a datetime type \n",
    "# The second argument is the format you want to use\n",
    "# Note: \"dt\" stands for datatime\n",
    "\n",
    "financial[\"month_str\"] = financial[\"date\"].dt.strftime(\"%m\")\n",
    "print(financial[\"month_str\"])\n",
    "\n",
    "financial[\"week_str\"]  = financial[\"date\"].dt.strftime(\"%W\")\n",
    "print(financial[\"week_str\"])\n"
   ]
  },
  {
   "attachments": {},
   "cell_type": "markdown",
   "metadata": {},
   "source": [
    "<font size = \"5\">\n",
    "\n",
    "Convert to string (b)\n",
    "\n",
    "$\\quad$ <img src=\"figures/wildcards_fig2.png\" alt=\"drawing\" width=\"400\"/>"
   ]
  },
  {
   "cell_type": "code",
   "execution_count": 11,
   "metadata": {},
   "outputs": [
    {
     "name": "stdout",
     "output_type": "stream",
     "text": [
      "0       April\n",
      "1       April\n",
      "2       April\n",
      "3       April\n",
      "4       April\n",
      "        ...  \n",
      "1300    March\n",
      "1301    March\n",
      "1302    March\n",
      "1303    April\n",
      "1304    April\n",
      "Name: monthname, Length: 1305, dtype: object\n",
      "0       Wednesday\n",
      "1        Thursday\n",
      "2          Friday\n",
      "3          Monday\n",
      "4         Tuesday\n",
      "          ...    \n",
      "1300    Wednesday\n",
      "1301     Thursday\n",
      "1302       Friday\n",
      "1303       Monday\n",
      "1304      Tuesday\n",
      "Name: weekdayname, Length: 1305, dtype: object\n"
     ]
    }
   ],
   "source": [
    "financial[\"monthname\"]   =  financial[\"date\"].dt.strftime(\"%B\")\n",
    "print(financial[\"monthname\"])\n",
    "\n",
    "financial[\"weekdayname\"] =  financial[\"date\"].dt.strftime(\"%A\")\n",
    "print(financial[\"weekdayname\"])"
   ]
  },
  {
   "attachments": {},
   "cell_type": "markdown",
   "metadata": {},
   "source": [
    "<font size = \"5\">\n",
    "\n",
    "Personalized format"
   ]
  },
  {
   "cell_type": "code",
   "execution_count": 18,
   "metadata": {},
   "outputs": [
    {
     "name": "stdout",
     "output_type": "stream",
     "text": [
      "0       This is the month of April\n",
      "1       This is the month of April\n",
      "2       This is the month of April\n",
      "3       This is the month of April\n",
      "4       This is the month of April\n",
      "                   ...            \n",
      "1300    This is the month of March\n",
      "1301    This is the month of March\n",
      "1302    This is the month of March\n",
      "1303    This is the month of April\n",
      "1304    This is the month of April\n",
      "Name: date, Length: 1305, dtype: object\n",
      "0       The day of the week is Wednesday\n",
      "1        The day of the week is Thursday\n",
      "2          The day of the week is Friday\n",
      "3          The day of the week is Monday\n",
      "4         The day of the week is Tuesday\n",
      "                      ...               \n",
      "1300    The day of the week is Wednesday\n",
      "1301     The day of the week is Thursday\n",
      "1302       The day of the week is Friday\n",
      "1303       The day of the week is Monday\n",
      "1304      The day of the week is Tuesday\n",
      "Name: date, Length: 1305, dtype: object\n",
      "0       2018-04\n",
      "1       2018-04\n",
      "2       2018-04\n",
      "3       2018-04\n",
      "4       2018-04\n",
      "         ...   \n",
      "1300    2023-03\n",
      "1301    2023-03\n",
      "1302    2023-03\n",
      "1303    2023-04\n",
      "1304    2023-04\n",
      "Name: date, Length: 1305, dtype: object\n"
     ]
    }
   ],
   "source": [
    "# Insert wildcards inside custom strings\n",
    "# Internally it will \"fill-in-the-blank\" with the corresponding information\n",
    "# You can use commas, dashes (--), slash (/) or other characters\n",
    "\n",
    "message_monthname =  financial[\"date\"].dt.strftime(\"This is the month of %B\")\n",
    "\n",
    "message_monthday  =  financial[\"date\"].dt.strftime(\"The day of the week is %A\")\n",
    "\n",
    "message_yearmonth =  financial[\"date\"].dt.strftime(\"%Y-%m\")\n",
    "\n",
    "\n",
    "print(message_monthname)\n",
    "print(message_monthday)\n",
    "print(message_yearmonth)\n"
   ]
  },
  {
   "attachments": {},
   "cell_type": "markdown",
   "metadata": {},
   "source": [
    "<font size = \"5\">\n",
    "\n",
    "Try it yourself!\n",
    "\n",
    "- Create a new column called \"date_test\" <br>\n",
    "  which has the format using ```.dt.strftime()```\n",
    "  \n",
    "$\\quad$ ```Monday, December 31, 2023 ```"
   ]
  },
  {
   "cell_type": "code",
   "execution_count": 23,
   "metadata": {},
   "outputs": [],
   "source": [
    "# Write your own code\n",
    "\n",
    "\n"
   ]
  },
  {
   "attachments": {},
   "cell_type": "markdown",
   "metadata": {},
   "source": [
    "# <span style=\"color:blue\"> III. Data Operations </span>"
   ]
  },
  {
   "attachments": {},
   "cell_type": "markdown",
   "metadata": {},
   "source": [
    "<font size = \"5\">\n",
    "\n",
    "Parsing + wild cards\n",
    "\n",
    "$\\quad$ <img src=\"figures/wildcards_fig3.png\" alt=\"drawing\" width=\"400\"/>"
   ]
  },
  {
   "cell_type": "code",
   "execution_count": null,
   "metadata": {},
   "outputs": [],
   "source": [
    "# Combine wildcards + characters depending on the input\n",
    "\n",
    "# Can include spaces, commas, \"/\", \"-\" or any other formatting\n",
    "\n",
    "# Be careful to include the wildcard letters in upper or lower case \n",
    "# depending on the intended format \n",
    "\n",
    "financial['date_ex1_dt'] = pd.to_datetime(financial[\"date_ex1\"], format = \"%B %d %Y\")\n",
    "financial['date_ex2_dt'] = pd.to_datetime(financial[\"date_ex2\"], format = \"%A, %Y-%m-%d\")"
   ]
  },
  {
   "cell_type": "markdown",
   "metadata": {},
   "source": [
    "**Does the following line of code work?** ```pd.to_datetime(financial[\"date_ex1\"], format = \"%A, %Y-%m-%d\")```"
   ]
  },
  {
   "attachments": {},
   "cell_type": "markdown",
   "metadata": {},
   "source": [
    "<font size = \"5\">\n",
    "\n",
    "Period grouping"
   ]
  },
  {
   "cell_type": "code",
   "execution_count": 27,
   "metadata": {},
   "outputs": [
    {
     "name": "stderr",
     "output_type": "stream",
     "text": [
      "/var/folders/fj/lkbmgqks0yn154b3xbx6plrh0000gn/T/ipykernel_25134/1791705904.py:5: FutureWarning: 'y' is deprecated and will be removed in a future version, please use 'YE' instead.\n",
      "  month_config = pd.Grouper(key='date', freq='y')\n"
     ]
    },
    {
     "data": {
      "text/plain": [
       "TimeGrouper(key='date', freq=<YearEnd: month=12>, axis=0, sort=True, dropna=True, closed='right', label='right', how='mean', convention='e', origin='start_day')"
      ]
     },
     "execution_count": 23,
     "metadata": {},
     "output_type": "execute_result"
    }
   ],
   "source": [
    "# In \"freq\" specify the letter for the level of aggregation\n",
    "# year (y), month (m), week (w), day(d)\n",
    "# There are also more advanced options! See documentation\n",
    "\n",
    "month_config = pd.Grouper(key='date', freq='y')\n"
   ]
  },
  {
   "attachments": {},
   "cell_type": "markdown",
   "metadata": {},
   "source": [
    "<font size = \"5\">\n",
    "\n",
    "Aggregate by period"
   ]
  },
  {
   "cell_type": "code",
   "execution_count": null,
   "metadata": {},
   "outputs": [],
   "source": [
    "financial.groupby(month_config).agg(sp500_mean = (\"sp500\",\"mean\")).reset_index()"
   ]
  },
  {
   "cell_type": "code",
   "execution_count": null,
   "metadata": {},
   "outputs": [],
   "source": [
    "# Group on the period column\n",
    "# We use a wrapper () to split the command into multiple lines\n",
    "# The \".reset_index()\" option ensures that the grouper is\n",
    "# converted to a column. This is important for plotting.\n",
    "# There's a lot of options to \n",
    "\n",
    "monthlydata = (financial\n",
    "               .groupby(month_config) \n",
    "               .agg(sp500_mean = (\"sp500\",\"mean\"))\n",
    "               .reset_index())"
   ]
  },
  {
   "cell_type": "code",
   "execution_count": 31,
   "metadata": {},
   "outputs": [
    {
     "data": {
      "application/vnd.microsoft.datawrangler.viewer.v0+json": {
       "columns": [
        {
         "name": "index",
         "rawType": "int64",
         "type": "integer"
        },
        {
         "name": "date",
         "rawType": "datetime64[ns]",
         "type": "datetime"
        },
        {
         "name": "sp500_mean",
         "rawType": "float64",
         "type": "float"
        }
       ],
       "conversionMethod": "pd.DataFrame",
       "ref": "4227f3e2-28ce-42e8-ae06-8484283587bd",
       "rows": [
        [
         "0",
         "2018-12-31 00:00:00",
         "2751.9218617021274"
        ],
        [
         "1",
         "2019-12-31 00:00:00",
         "2913.3605555555555"
        ],
        [
         "2",
         "2020-12-31 00:00:00",
         "3217.8564822134385"
        ],
        [
         "3",
         "2021-12-31 00:00:00",
         "4273.406626984127"
        ],
        [
         "4",
         "2022-12-31 00:00:00",
         "4098.514741035857"
        ],
        [
         "5",
         "2023-12-31 00:00:00",
         "4003.57984375"
        ]
       ],
       "shape": {
        "columns": 2,
        "rows": 6
       }
      },
      "text/html": [
       "<div>\n",
       "<style scoped>\n",
       "    .dataframe tbody tr th:only-of-type {\n",
       "        vertical-align: middle;\n",
       "    }\n",
       "\n",
       "    .dataframe tbody tr th {\n",
       "        vertical-align: top;\n",
       "    }\n",
       "\n",
       "    .dataframe thead th {\n",
       "        text-align: right;\n",
       "    }\n",
       "</style>\n",
       "<table border=\"1\" class=\"dataframe\">\n",
       "  <thead>\n",
       "    <tr style=\"text-align: right;\">\n",
       "      <th></th>\n",
       "      <th>date</th>\n",
       "      <th>sp500_mean</th>\n",
       "    </tr>\n",
       "  </thead>\n",
       "  <tbody>\n",
       "    <tr>\n",
       "      <th>0</th>\n",
       "      <td>2018-12-31</td>\n",
       "      <td>2751.921862</td>\n",
       "    </tr>\n",
       "    <tr>\n",
       "      <th>1</th>\n",
       "      <td>2019-12-31</td>\n",
       "      <td>2913.360556</td>\n",
       "    </tr>\n",
       "    <tr>\n",
       "      <th>2</th>\n",
       "      <td>2020-12-31</td>\n",
       "      <td>3217.856482</td>\n",
       "    </tr>\n",
       "    <tr>\n",
       "      <th>3</th>\n",
       "      <td>2021-12-31</td>\n",
       "      <td>4273.406627</td>\n",
       "    </tr>\n",
       "    <tr>\n",
       "      <th>4</th>\n",
       "      <td>2022-12-31</td>\n",
       "      <td>4098.514741</td>\n",
       "    </tr>\n",
       "    <tr>\n",
       "      <th>5</th>\n",
       "      <td>2023-12-31</td>\n",
       "      <td>4003.579844</td>\n",
       "    </tr>\n",
       "  </tbody>\n",
       "</table>\n",
       "</div>"
      ],
      "text/plain": [
       "        date   sp500_mean\n",
       "0 2018-12-31  2751.921862\n",
       "1 2019-12-31  2913.360556\n",
       "2 2020-12-31  3217.856482\n",
       "3 2021-12-31  4273.406627\n",
       "4 2022-12-31  4098.514741\n",
       "5 2023-12-31  4003.579844"
      ]
     },
     "execution_count": 31,
     "metadata": {},
     "output_type": "execute_result"
    }
   ],
   "source": [
    "monthlydata"
   ]
  },
  {
   "attachments": {},
   "cell_type": "markdown",
   "metadata": {},
   "source": [
    "<font size = \"5\">\n",
    "\n",
    "Plot aggregate data"
   ]
  },
  {
   "cell_type": "code",
   "execution_count": null,
   "metadata": {},
   "outputs": [],
   "source": [
    "plt.plot(\"date\",\"sp500_mean\",\n",
    "          data = monthlydata)\n",
    "plt.xlabel(\"Time\")\n",
    "plt.ylabel(\"S&P 500\")\n",
    "plt.title(\"Monthly average stock market performance\")"
   ]
  },
  {
   "attachments": {},
   "cell_type": "markdown",
   "metadata": {},
   "source": [
    "<font size = \"5\">\n",
    "\n",
    "Try it yourself!\n",
    "\n",
    "- Practice ```pd.to_datetime()```\n",
    "- Parse the column \"data_ex3\"\n",
    "- Take a close look at the formatting\n",
    "\n",
    "HINT: Refer to the table of wildcards <br>\n",
    " in the previous section\n"
   ]
  },
  {
   "cell_type": "code",
   "execution_count": null,
   "metadata": {},
   "outputs": [],
   "source": [
    "# Write your own code\n",
    "\n"
   ]
  },
  {
   "attachments": {},
   "cell_type": "markdown",
   "metadata": {},
   "source": [
    "<font size = \"5\">\n",
    "\n"
   ]
  },
  {
   "attachments": {},
   "cell_type": "markdown",
   "metadata": {},
   "source": [
    "<font size = \"5\">\n",
    "\n",
    "Try it yourself!\n",
    "\n",
    "- Compute an aggregate dataset which computes the standard <br>\n",
    "deviation of the S&P 500 at the weekly level.\n",
    "- Generate a line plot with your results\n"
   ]
  },
  {
   "cell_type": "code",
   "execution_count": null,
   "metadata": {},
   "outputs": [],
   "source": [
    "# Write your own code\n",
    "\n"
   ]
  },
  {
   "attachments": {},
   "cell_type": "markdown",
   "metadata": {},
   "source": [
    "# <span style=\"color:darkblue\"> IV. Additional Material </span>"
   ]
  },
  {
   "attachments": {},
   "cell_type": "markdown",
   "metadata": {},
   "source": [
    "<font size = \"5\">\n",
    "\n",
    "Full list of wild cards:\n",
    "\n",
    "- More fine-grained, e.g. microseconds, etc.\n",
    "- Other formats, e.g. time zone, \"AM/PM\", etc.\n",
    "\n",
    "https://www.w3schools.com/python/python_datetime.asp"
   ]
  }
 ],
 "metadata": {
  "kernelspec": {
   "display_name": "base",
   "language": "python",
   "name": "python3"
  },
  "language_info": {
   "codemirror_mode": {
    "name": "ipython",
    "version": 3
   },
   "file_extension": ".py",
   "mimetype": "text/x-python",
   "name": "python",
   "nbconvert_exporter": "python",
   "pygments_lexer": "ipython3",
   "version": "3.12.7"
  },
  "orig_nbformat": 4
 },
 "nbformat": 4,
 "nbformat_minor": 2
}
